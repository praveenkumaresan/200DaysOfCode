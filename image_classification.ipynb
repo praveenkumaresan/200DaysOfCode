{
  "nbformat": 4,
  "nbformat_minor": 0,
  "metadata": {
    "colab": {
      "provenance": [],
      "authorship_tag": "ABX9TyNEV3tJr9VZYpaMpoM6El6g",
      "include_colab_link": true
    },
    "kernelspec": {
      "name": "python3",
      "display_name": "Python 3"
    },
    "language_info": {
      "name": "python"
    }
  },
  "cells": [
    {
      "cell_type": "markdown",
      "metadata": {
        "id": "view-in-github",
        "colab_type": "text"
      },
      "source": [
        "<a href=\"https://colab.research.google.com/github/praveenkumaresan/200DaysOfCode/blob/master/image_classification.ipynb\" target=\"_parent\"><img src=\"https://colab.research.google.com/assets/colab-badge.svg\" alt=\"Open In Colab\"/></a>"
      ]
    },
    {
      "cell_type": "code",
      "execution_count": 5,
      "metadata": {
        "id": "CsgHxpbuMMky",
        "colab": {
          "base_uri": "https://localhost:8080/"
        },
        "outputId": "768e15c0-20cd-420b-de55-9fa6384b6197"
      },
      "outputs": [
        {
          "output_type": "stream",
          "name": "stdout",
          "text": [
            "Downloading from https://www.kaggle.com/api/v1/datasets/download/kausthubkannan/5-flower-types-classification-dataset?dataset_version_number=1...\n"
          ]
        },
        {
          "output_type": "stream",
          "name": "stderr",
          "text": [
            "100%|██████████| 242M/242M [00:04<00:00, 61.0MB/s]"
          ]
        },
        {
          "output_type": "stream",
          "name": "stdout",
          "text": [
            "Extracting files...\n"
          ]
        },
        {
          "output_type": "stream",
          "name": "stderr",
          "text": [
            "\n"
          ]
        },
        {
          "output_type": "stream",
          "name": "stdout",
          "text": [
            "Path to dataset files: /root/.cache/kagglehub/datasets/kausthubkannan/5-flower-types-classification-dataset/versions/1\n"
          ]
        }
      ],
      "source": [
        "import kagglehub\n",
        "path = kagglehub.dataset_download(\"kausthubkannan/5-flower-types-classification-dataset\")\n",
        "print(\"Path to dataset files:\", path)\n"
      ]
    },
    {
      "cell_type": "code",
      "source": [
        "import os\n",
        "from collections import defaultdict\n",
        "\n",
        "# Set the path to your dataset directory\n",
        "dataset_path = path\n",
        "\n",
        "# Dictionary to store the count of images in each category\n",
        "category_counts = defaultdict(int)\n",
        "\n",
        "# Walk through the dataset directory to count the number of images in each category\n",
        "for category in os.listdir(dataset_path):\n",
        "    category_path = os.path.join(dataset_path, category)\n",
        "    if os.path.isdir(category_path):\n",
        "        image_count = len(os.listdir(category_path))\n",
        "        category_counts[category] = image_count\n",
        "\n",
        "# Print a summary of the dataset\n",
        "print(\"Summary of the 5 Flower Types Classification Dataset:\")\n",
        "print(\"---------------------------------------------------\")\n",
        "for category, count in category_counts.items():\n",
        "    print(f\"Category: {category} - Number of Images: {count}\")\n",
        "\n",
        "print(\"\\nTotal Categories:\", len(category_counts))\n",
        "print(\"Total Images:\", sum(category_counts.values()))\n"
      ],
      "metadata": {
        "colab": {
          "base_uri": "https://localhost:8080/"
        },
        "id": "GtA4O8OHTX6I",
        "outputId": "409470e7-4de7-43cd-9ae2-f5f9c02e8265"
      },
      "execution_count": 7,
      "outputs": [
        {
          "output_type": "stream",
          "name": "stdout",
          "text": [
            "Summary of the 5 Flower Types Classification Dataset:\n",
            "---------------------------------------------------\n",
            "Category: flower_images - Number of Images: 5\n",
            "\n",
            "Total Categories: 1\n",
            "Total Images: 5\n"
          ]
        }
      ]
    }
  ]
}